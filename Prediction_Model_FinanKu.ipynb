{
  "cells": [
    {
      "cell_type": "markdown",
      "metadata": {
        "id": "foT9BWmzJSlE"
      },
      "source": [
        "#Import Package"
      ]
    },
    {
      "cell_type": "code",
      "execution_count": null,
      "metadata": {
        "id": "x5tf0nnQ8jyq"
      },
      "outputs": [],
      "source": [
        "pip install jcopml"
      ]
    },
    {
      "cell_type": "code",
      "execution_count": null,
      "metadata": {
        "id": "PXVXgwArInky"
      },
      "outputs": [],
      "source": [
        "import pandas as pd\n",
        "import numpy as np\n",
        "import matplotlib.pyplot as plt\n",
        "import seaborn as sns\n",
        "import time\n",
        "from sklearn.linear_model import LogisticRegression, LogisticRegressionCV\n",
        "from sklearn.model_selection import GridSearchCV\n",
        "from xgboost import XGBClassifier\n",
        "from sklearn.metrics import confusion_matrix, classification_report, make_scorer,accuracy_score,precision_score,recall_score,f1_score\n",
        "from sklearn.ensemble import RandomForestClassifier\n",
        "from sklearn import metrics\n",
        "from jcopml.feature_importance import mean_score_decrease"
      ]
    },
    {
      "cell_type": "code",
      "execution_count": null,
      "metadata": {
        "id": "GSEqFdRfKDLb"
      },
      "outputs": [],
      "source": [
        "pd.set_option('display.max_columns', None)"
      ]
    },
    {
      "cell_type": "code",
      "execution_count": null,
      "metadata": {
        "id": "D48ttSDFKOWq"
      },
      "outputs": [],
      "source": [
        "from google.colab import drive\n",
        "drive.mount('/content/drive')"
      ]
    },
    {
      "cell_type": "markdown",
      "metadata": {
        "id": "a89t3nSzKZI7"
      },
      "source": [
        "#**Data Prediction**"
      ]
    },
    {
      "cell_type": "code",
      "execution_count": null,
      "metadata": {
        "id": "lSv3u7ilKoHn"
      },
      "outputs": [],
      "source": [
        "path_1 = \"/content/drive/MyDrive/DATA SET/FinanKu Data All.csv\"\n",
        "path_2 = \"/content/drive/MyDrive/DATA SET/FinanKu Data Validasi.csv\"\n",
        "df_all = pd.read_csv(path_1)\n",
        "df_val = pd.read_csv(path_2)"
      ]
    },
    {
      "cell_type": "markdown",
      "metadata": {
        "id": "tbWa8AN2K6NN"
      },
      "source": [
        "Dataset untuk Eksperimen 1"
      ]
    },
    {
      "cell_type": "code",
      "execution_count": null,
      "metadata": {
        "id": "NVTS7Rl8K65P"
      },
      "outputs": [],
      "source": [
        "df1 = pd.read_csv(path_1)\n",
        "df1.head()"
      ]
    },
    {
      "cell_type": "markdown",
      "metadata": {
        "id": "RCcALu5bLDvF"
      },
      "source": [
        "Dataset untuk Eksperimen 2"
      ]
    },
    {
      "cell_type": "code",
      "execution_count": null,
      "metadata": {
        "id": "ugwDvSd-K-tF"
      },
      "outputs": [],
      "source": [
        "df2 = pd.read_csv(path_1)\n",
        "df2.head()"
      ]
    },
    {
      "cell_type": "markdown",
      "metadata": {
        "id": "k_vDYf2QLK51"
      },
      "source": [
        "#**Data Understanding**"
      ]
    },
    {
      "cell_type": "code",
      "execution_count": null,
      "metadata": {
        "id": "jGtJmGM7LRdv"
      },
      "outputs": [],
      "source": [
        "data1 = pd.DataFrame(\\\n",
        "                     #Mengkelompokkan Berdasarkan Kota\n",
        "                     df_all.groupby(by=[\"City\"])[\"Customer ID\"]\\\n",
        "                     #Diagregatkan dengan menghitung jumlahnya (count)\n",
        "                     .count()\\\n",
        "                     #Mengurutkan data\n",
        "                     .sort_values(ascending=False)\\\n",
        "                     #Mereset nama header\n",
        "                     .reset_index(name='Distribution by City'))\n",
        "data1"
      ]
    },
    {
      "cell_type": "code",
      "execution_count": null,
      "metadata": {
        "id": "ZuVMSIaCLgqC"
      },
      "outputs": [],
      "source": [
        "data2 = pd.DataFrame(\\\n",
        "                     #Mengkelompokkan Berdasarkan Kota\n",
        "                     df_all[df_all[\"Unpaid Tagging\"]==1].groupby(by=[\"City\"])[\"Customer ID\"]\\\n",
        "                     #Diagregatkan dengan menghitung jumlahnya (count)\n",
        "                     .count()\\\n",
        "                     #Mengurutkan data\n",
        "                     .sort_values(ascending=False)\\\n",
        "                     #Mereset nama header\n",
        "                     .reset_index(name='Distribution by City'))\n",
        "data2"
      ]
    },
    {
      "cell_type": "markdown",
      "metadata": {
        "id": "UOStD4YMLlzF"
      },
      "source": [
        "Sebaran Nasahbah berdasarkan usia\n"
      ]
    },
    {
      "cell_type": "code",
      "execution_count": null,
      "metadata": {
        "id": "4pJRhcHNO-3B"
      },
      "outputs": [],
      "source": [
        "data3 = pd.DataFrame(\\\n",
        "                     #Mengkelompokkan Berdasarkan Umur\n",
        "                     df_all.groupby(by=[\"Age\"])[\"Customer ID\"]\\\n",
        "                     #Diagregatkan dengan menghitung jumlahnya (count)\n",
        "                     .count()\\\n",
        "                     #Mereset nama header\n",
        "                     .reset_index(name='Distribution by Age'))\n",
        "\n",
        "data3.sort_values(\\\n",
        "                  by=['Age'], \\\n",
        "                  ascending=True,\\\n",
        "                  inplace=True)\n",
        "\n",
        "\n",
        "data3.plot(x='Age',\n",
        "           y=['Distribution by Age'],\n",
        "           kind='bar',\n",
        "           grid = True,\n",
        "           xlabel = 'Age',\n",
        "           ylabel = '# People',\n",
        "           figsize=(12,7),\n",
        "           rot = 0,\n",
        "           title = 'Cust. Distribution by Age',)"
      ]
    },
    {
      "cell_type": "code",
      "execution_count": null,
      "metadata": {
        "id": "CB3s82X-QEoJ"
      },
      "outputs": [],
      "source": [
        "data4 = pd.DataFrame(\\\n",
        "                     #Mengkelompokkan Berdasarkan Umur\n",
        "                     df_all[df_all[\"Unpaid Tagging\"]==1].groupby(by=[\"Age\"])[\"Customer ID\"]\\\n",
        "                     #Diagregatkan dengan menghitung jumlahnya (count)\n",
        "                     .count()\\\n",
        "                     #Mereset nama header\n",
        "                     .reset_index(name='Distribution by Age'))\n",
        "\n",
        "data4.sort_values(\\\n",
        "                  by=['Age'], \\\n",
        "                  ascending=True,\\\n",
        "                  inplace=True)\n",
        "\n",
        "\n",
        "data4.plot(x='Age',\n",
        "           y=['Distribution by Age'],\n",
        "           kind='bar',\n",
        "           grid = True,\n",
        "           xlabel = 'Age',\n",
        "           ylabel = '# People',\n",
        "           figsize=(12,7),\n",
        "           rot = 0,\n",
        "           title = 'Unpaid Cust. Distribution by Age',)"
      ]
    },
    {
      "cell_type": "markdown",
      "metadata": {
        "id": "uzQx20mHQO60"
      },
      "source": [
        "Rata-Rata Saldo Nasabah"
      ]
    },
    {
      "cell_type": "code",
      "execution_count": null,
      "metadata": {
        "id": "BttDxX2KQQ7I"
      },
      "outputs": [],
      "source": [
        "df_checkbalance = df_all"
      ]
    },
    {
      "cell_type": "code",
      "execution_count": null,
      "metadata": {
        "id": "_JmN5E1jQULE"
      },
      "outputs": [],
      "source": [
        "df_checkbalance['Total Balance'] = df_checkbalance['Balance Q1']+df_checkbalance['Balance Q2']+df_checkbalance['Balance Q3']+df_checkbalance['Balance Q4']\n",
        "df_checkbalance['Avg Balance'] = (df_checkbalance['Balance Q1']+df_checkbalance['Balance Q2']+df_checkbalance['Balance Q3']+df_checkbalance['Balance Q4'])/4"
      ]
    },
    {
      "cell_type": "code",
      "execution_count": null,
      "metadata": {
        "id": "R-lxFCrKQWem"
      },
      "outputs": [],
      "source": [
        "data5 = pd.DataFrame(\\\n",
        "                     df_checkbalance.groupby(by=[\"Unpaid Tagging\"])[\"Total Balance\"]\\\n",
        "                     .mean()\\\n",
        "                     .reset_index(name='Avg Annual Balance'))\n",
        "data5"
      ]
    },
    {
      "cell_type": "code",
      "execution_count": null,
      "metadata": {
        "id": "5xQYCZV9QZXi"
      },
      "outputs": [],
      "source": [
        "data6 = pd.DataFrame(\\\n",
        "                     df_checkbalance.groupby(by=[\"Unpaid Tagging\"])[\"Avg Balance\"]\\\n",
        "                     .mean()\\\n",
        "                     .reset_index(name='Avg Quarterly Balance'))\n",
        "data6"
      ]
    },
    {
      "cell_type": "markdown",
      "metadata": {
        "id": "IV9gYoKMQmKj"
      },
      "source": [
        "Rata-Rata Kepemilikan Produk"
      ]
    },
    {
      "cell_type": "code",
      "execution_count": null,
      "metadata": {
        "id": "02e7ESCxQkD4"
      },
      "outputs": [],
      "source": [
        "df_checkbalance['Avg Product'] = (df_checkbalance['NumOfProducts Q1']+df_checkbalance['NumOfProducts Q2']+df_checkbalance['NumOfProducts Q3']+df_checkbalance['NumOfProducts Q4'])/4"
      ]
    },
    {
      "cell_type": "code",
      "execution_count": null,
      "metadata": {
        "id": "87mJ6vGbQxFJ"
      },
      "outputs": [],
      "source": [
        "data7 = pd.DataFrame(\\\n",
        "                     df_checkbalance.groupby(by=[\"Unpaid Tagging\"])[\"Avg Product\"]\\\n",
        "                     .mean()\\\n",
        "                     .reset_index(name='Avg Product Owned'))\n",
        "data7"
      ]
    },
    {
      "cell_type": "code",
      "execution_count": null,
      "metadata": {
        "id": "4LWl9vVmQzha"
      },
      "outputs": [],
      "source": [
        "df_all = df_all.drop(columns=['Total Balance', 'Avg Balance','Avg Product'])"
      ]
    },
    {
      "cell_type": "markdown",
      "metadata": {
        "id": "PyqEtOasQ6ce"
      },
      "source": [
        "#**Data Preparation**"
      ]
    },
    {
      "cell_type": "markdown",
      "metadata": {
        "id": "6buph3SgRCkO"
      },
      "source": [
        "##Pengecekan data duplikat mising"
      ]
    },
    {
      "cell_type": "code",
      "execution_count": null,
      "metadata": {
        "id": "B-lJjFJsRKFs"
      },
      "outputs": [],
      "source": [
        "df_all.duplicated().sum()"
      ]
    },
    {
      "cell_type": "code",
      "execution_count": null,
      "metadata": {
        "id": "-yaRx7NyRSEu"
      },
      "outputs": [],
      "source": [
        "df_all.isnull().sum()"
      ]
    },
    {
      "cell_type": "markdown",
      "metadata": {
        "id": "rSurEEaaVRMp"
      },
      "source": [
        "##Penambah variabel relevan"
      ]
    },
    {
      "cell_type": "markdown",
      "metadata": {
        "id": "2FvDMkXJVV3b"
      },
      "source": [
        "Melihat saldo nasabah dalam scope observasi"
      ]
    },
    {
      "cell_type": "code",
      "execution_count": null,
      "metadata": {
        "id": "BgCtJShYVUhA"
      },
      "outputs": [],
      "source": [
        "df1['Mean Balance'] = (df1['Balance Q1']+df1['Balance Q2']+df1['Balance Q3']+df1['Balance Q4'])/4\n",
        "df1['Delta Balance'] = df1['Balance Q4']-df1['Balance Q1']"
      ]
    },
    {
      "cell_type": "code",
      "execution_count": null,
      "metadata": {
        "id": "wZsnSvVhVcpj"
      },
      "outputs": [],
      "source": [
        "df1.head()"
      ]
    },
    {
      "cell_type": "code",
      "execution_count": null,
      "metadata": {
        "id": "9ZoyMXVEVjVe"
      },
      "outputs": [],
      "source": [
        "df2['Mean Balance'] = (df2['Balance Q3']+df2['Balance Q4'])/2\n",
        "df2['Delta Balance'] = df2['Balance Q4']-df2['Balance Q2']"
      ]
    },
    {
      "cell_type": "code",
      "execution_count": null,
      "metadata": {
        "id": "RDWRwjZpVnjW"
      },
      "outputs": [],
      "source": [
        "df2.head()"
      ]
    },
    {
      "cell_type": "markdown",
      "metadata": {
        "id": "w0580xKTV1s_"
      },
      "source": [
        "Melihat periode nasabah aktif dalam scope observasi"
      ]
    },
    {
      "cell_type": "code",
      "execution_count": null,
      "metadata": {
        "id": "gnFaEDXyV2UN"
      },
      "outputs": [],
      "source": [
        "df1['Active Months'] = (df1['ActiveMember Q1']+df1['ActiveMember Q2']+df1['ActiveMember Q3']+df1['ActiveMember Q4'])*3"
      ]
    },
    {
      "cell_type": "code",
      "execution_count": null,
      "metadata": {
        "id": "bzfVDoOuV-DP"
      },
      "outputs": [],
      "source": [
        "df1.head()"
      ]
    },
    {
      "cell_type": "code",
      "execution_count": null,
      "metadata": {
        "id": "FX5jXF9QWK-S"
      },
      "outputs": [],
      "source": [
        "df2['Active Months'] = (df2['ActiveMember Q3']+df2['ActiveMember Q4'])*3"
      ]
    },
    {
      "cell_type": "code",
      "execution_count": null,
      "metadata": {
        "id": "q5ZQSmtKWMJB"
      },
      "outputs": [],
      "source": [
        "df2.head()"
      ]
    },
    {
      "cell_type": "markdown",
      "metadata": {
        "id": "e-RpCx2iWZmw"
      },
      "source": [
        "**Penambahan/Pengurangan Product Holding**"
      ]
    },
    {
      "cell_type": "code",
      "execution_count": null,
      "metadata": {
        "id": "plWm8CJeWbrp"
      },
      "outputs": [],
      "source": [
        "df1['Diff PH'] = df1['NumOfProducts Q4']-df1['NumOfProducts Q1']"
      ]
    },
    {
      "cell_type": "code",
      "execution_count": null,
      "metadata": {
        "id": "OxTa6fvKWexy"
      },
      "outputs": [],
      "source": [
        "df1.head()"
      ]
    },
    {
      "cell_type": "code",
      "execution_count": null,
      "metadata": {
        "id": "sMgbU6EOALjr"
      },
      "outputs": [],
      "source": [
        "df2['Diff PH'] = df2['NumOfProducts Q4']-df1['NumOfProducts Q2']"
      ]
    },
    {
      "cell_type": "code",
      "execution_count": null,
      "metadata": {
        "id": "q7jfRFMHARKv"
      },
      "outputs": [],
      "source": [
        "df2.head()"
      ]
    },
    {
      "cell_type": "markdown",
      "metadata": {
        "id": "pUZgAyxxAjBd"
      },
      "source": [
        "**Lama Kepemilikan Kartu kredit dalam periode observasi**"
      ]
    },
    {
      "cell_type": "code",
      "execution_count": null,
      "metadata": {
        "id": "_S6gfrUVAqc_"
      },
      "outputs": [],
      "source": [
        "def assign_cr1(df):\n",
        "    if df['HasCrCard Q1'] == 1:\n",
        "        return 12\n",
        "    elif df['HasCrCard Q2'] == 1:\n",
        "        return 9\n",
        "    elif df['HasCrCard Q3'] == 1:\n",
        "        return 6\n",
        "    else:\n",
        "        return 3\n",
        "    return np.nan"
      ]
    },
    {
      "cell_type": "code",
      "execution_count": null,
      "metadata": {
        "id": "l1LcBL2nAtK2"
      },
      "outputs": [],
      "source": [
        "df1['Vintage_CR'] = df1.apply(assign_cr1, axis = 1)"
      ]
    },
    {
      "cell_type": "code",
      "execution_count": null,
      "metadata": {
        "id": "UioShp0lAvGI"
      },
      "outputs": [],
      "source": [
        "df1.head()"
      ]
    },
    {
      "cell_type": "code",
      "execution_count": null,
      "metadata": {
        "id": "vUmavH8VA0VM"
      },
      "outputs": [],
      "source": [
        "df2['Vintage_CR'] = df2.apply(assign_cr1, axis = 1)"
      ]
    },
    {
      "cell_type": "code",
      "execution_count": null,
      "metadata": {
        "id": "bdYAVa5jA24m"
      },
      "outputs": [],
      "source": [
        "df2.head()"
      ]
    },
    {
      "cell_type": "markdown",
      "metadata": {
        "id": "0VlYpoeqA6sg"
      },
      "source": [
        "#Penghapusan Variabel"
      ]
    },
    {
      "cell_type": "markdown",
      "metadata": {
        "id": "vD7efhAPA_tT"
      },
      "source": [
        "Status Kepemilikan Sudah Digantikan Dengan Lama Kepemilikan Kartu Kredit"
      ]
    },
    {
      "cell_type": "code",
      "execution_count": null,
      "metadata": {
        "id": "FcjktBolA9UO"
      },
      "outputs": [],
      "source": [
        "df1 = df1.drop(columns = ['HasCrCard Q1', 'HasCrCard Q2', 'HasCrCard Q3', 'HasCrCard Q4'])\n",
        "df2 = df2.drop(columns = ['HasCrCard Q1', 'HasCrCard Q2', 'HasCrCard Q3', 'HasCrCard Q4'])"
      ]
    },
    {
      "cell_type": "markdown",
      "metadata": {
        "id": "cjVkEtvKCa8S"
      },
      "source": [
        "Jumlah Kepemilikan Produk sudah digantikan dengan fluktuasi kepemilikan produk pada periode observasi"
      ]
    },
    {
      "cell_type": "markdown",
      "metadata": {
        "id": "qYTuAKRjKEMb"
      },
      "source": [
        "Balance Per Quarter sudah digantikan dengan rata-rata saldo dalam periode observasi & selisih saldo di awal dan akhir periode observasi"
      ]
    },
    {
      "cell_type": "code",
      "execution_count": null,
      "metadata": {
        "id": "IXPB2eI3KA9v"
      },
      "outputs": [],
      "source": [
        "df1 = df1.drop(columns = ['Balance Q1', 'Balance Q2', 'Balance Q3', 'Balance Q4'])\n",
        "df2 = df2.drop(columns = ['Balance Q1', 'Balance Q2', 'Balance Q3', 'Balance Q4'])"
      ]
    },
    {
      "cell_type": "code",
      "execution_count": null,
      "metadata": {
        "id": "Gs0LVnSkCbo4"
      },
      "outputs": [],
      "source": [
        "df1 = df1.drop(columns = ['NumOfProducts Q1', 'NumOfProducts Q2', 'NumOfProducts Q3', 'NumOfProducts Q4'])\n",
        "df2 = df2.drop(columns = ['NumOfProducts Q1', 'NumOfProducts Q2', 'NumOfProducts Q3', 'NumOfProducts Q4'])"
      ]
    },
    {
      "cell_type": "markdown",
      "metadata": {
        "id": "S4B2jPvaCdtS"
      },
      "source": [
        "Status Keaktifan Nasabah Per Quarter sudah digantikan dengan Status Keaktifan dalam Bulan"
      ]
    },
    {
      "cell_type": "code",
      "execution_count": null,
      "metadata": {
        "id": "4G4biQdrCf8u"
      },
      "outputs": [],
      "source": [
        "df1 = df1.drop(columns = ['ActiveMember Q1', 'ActiveMember Q2', 'ActiveMember Q3', 'ActiveMember Q4'])\n",
        "df2 = df2.drop(columns = ['ActiveMember Q1', 'ActiveMember Q2', 'ActiveMember Q3', 'ActiveMember Q4'])"
      ]
    },
    {
      "cell_type": "markdown",
      "metadata": {
        "id": "_ZUH9sEMCidF"
      },
      "source": [
        "#Data Transformation"
      ]
    },
    {
      "cell_type": "markdown",
      "metadata": {
        "id": "LckPEGGWCmGG"
      },
      "source": [
        "Pemisahan Vaktor Prediction"
      ]
    },
    {
      "cell_type": "code",
      "execution_count": null,
      "metadata": {
        "id": "c8GNz_KwCpQQ"
      },
      "outputs": [],
      "source": [
        "predictor1 = df1[df1.columns.difference(['Customer ID', 'Unpaid Tagging'])]\n",
        "predictor2 = df2[df2.columns.difference(['Customer ID', 'Unpaid Tagging'])]"
      ]
    },
    {
      "cell_type": "code",
      "execution_count": null,
      "metadata": {
        "id": "ub7iaLx-CrA4"
      },
      "outputs": [],
      "source": [
        "predictor1.head()"
      ]
    },
    {
      "cell_type": "code",
      "execution_count": null,
      "metadata": {
        "id": "TNb1edBlCyPc"
      },
      "outputs": [],
      "source": [
        "predictor2.head()"
      ]
    },
    {
      "cell_type": "markdown",
      "metadata": {
        "id": "FIJXm9I6C0Cm"
      },
      "source": [
        "Melakukan Encoding untuk Data Category"
      ]
    },
    {
      "cell_type": "code",
      "execution_count": null,
      "metadata": {
        "id": "DY6R9d6mC7vg"
      },
      "outputs": [],
      "source": [
        "##Variable Category: 1. Branch Code 2. City\n",
        "##branch code perlu diubah menjadi string agar dianggap sebagai data kategori\n",
        "predictor1['Branch Code'] = predictor1['Branch Code'].astype(str)\n",
        "predictor2['Branch Code'] = predictor2['Branch Code'].astype(str)"
      ]
    },
    {
      "cell_type": "code",
      "execution_count": null,
      "metadata": {
        "id": "7BOwzjKeDQkM"
      },
      "outputs": [],
      "source": [
        "predictor1.info()"
      ]
    },
    {
      "cell_type": "code",
      "execution_count": null,
      "metadata": {
        "id": "zokW-WKHDSE7"
      },
      "outputs": [],
      "source": [
        "predictor2.info()"
      ]
    },
    {
      "cell_type": "code",
      "execution_count": null,
      "metadata": {
        "id": "ORayhgxEDWiz"
      },
      "outputs": [],
      "source": [
        "predictor1 = pd.get_dummies(predictor1)\n",
        "predictor2 = pd.get_dummies(predictor2)"
      ]
    },
    {
      "cell_type": "code",
      "execution_count": null,
      "metadata": {
        "id": "RITVxDu2DZFy"
      },
      "outputs": [],
      "source": [
        "predictor1.head()"
      ]
    },
    {
      "cell_type": "code",
      "execution_count": null,
      "metadata": {
        "id": "nGAD-0aADbGd"
      },
      "outputs": [],
      "source": [
        "predictor2.head()"
      ]
    },
    {
      "cell_type": "code",
      "execution_count": null,
      "metadata": {
        "id": "jkVEhOZlDvoI"
      },
      "outputs": [],
      "source": [
        "predname = predictor1.columns\n",
        "predname_num = predictor1.columns[0:7]\n",
        "predname_cat = predictor1.columns[7:31]"
      ]
    },
    {
      "cell_type": "code",
      "execution_count": null,
      "metadata": {
        "id": "QD-w-CrXDwh8"
      },
      "outputs": [],
      "source": [
        "predname"
      ]
    },
    {
      "cell_type": "code",
      "execution_count": null,
      "metadata": {
        "id": "SV-WOZAoDyfj"
      },
      "outputs": [],
      "source": [
        "predname_num"
      ]
    },
    {
      "cell_type": "code",
      "execution_count": null,
      "metadata": {
        "id": "HbKPYdo_D03j"
      },
      "outputs": [],
      "source": [
        "predname_cat"
      ]
    },
    {
      "cell_type": "code",
      "execution_count": null,
      "metadata": {
        "colab": {
          "background_save": true
        },
        "id": "wX3bg1DID2to"
      },
      "outputs": [],
      "source": [
        "X1_num = predictor1[predname_num]\n",
        "X2_num = predictor2[predname_num]\n",
        "X1_cat = predictor1[predname_cat]\n",
        "X2_cat = predictor2[predname_cat]"
      ]
    },
    {
      "cell_type": "code",
      "execution_count": null,
      "metadata": {
        "colab": {
          "background_save": true
        },
        "id": "vNMMv2bVD6aI"
      },
      "outputs": [],
      "source": [
        "#Standarisasi Data Numerik\n",
        "from sklearn.preprocessing import StandardScaler\n",
        "pt = StandardScaler()\n",
        "X1_num = pd.DataFrame(pt.fit_transform(X1_num))\n",
        "X1_num.head()"
      ]
    },
    {
      "cell_type": "code",
      "execution_count": null,
      "metadata": {
        "colab": {
          "background_save": true
        },
        "id": "r9t_SclqEAzQ"
      },
      "outputs": [],
      "source": [
        "X1_num.columns = predname_num\n",
        "X1_num.head()"
      ]
    },
    {
      "cell_type": "code",
      "execution_count": null,
      "metadata": {
        "colab": {
          "background_save": true
        },
        "id": "OOyfmlUkEENL"
      },
      "outputs": [],
      "source": [
        "X2_num = pd.DataFrame(pt.fit_transform(X2_num))\n",
        "X2_num.head()"
      ]
    },
    {
      "cell_type": "code",
      "execution_count": null,
      "metadata": {
        "colab": {
          "background_save": true
        },
        "id": "rbQOFwNHIu2U"
      },
      "outputs": [],
      "source": [
        "X2_num.columns = predname_num\n",
        "X2_num.head()"
      ]
    },
    {
      "cell_type": "markdown",
      "metadata": {
        "id": "Y07UTJIsEN8o"
      },
      "source": [
        "#Menggabungkan Dataset Prediktor"
      ]
    },
    {
      "cell_type": "code",
      "execution_count": null,
      "metadata": {
        "colab": {
          "background_save": true
        },
        "id": "xIwa2M6hENiN"
      },
      "outputs": [],
      "source": [
        "X1 = pd.concat([X1_cat, X1_num], axis = 1)\n",
        "X2 = pd.concat([X2_cat, X2_num], axis = 1)"
      ]
    },
    {
      "cell_type": "code",
      "execution_count": null,
      "metadata": {
        "colab": {
          "background_save": true
        },
        "id": "2zjt8AmwEcem"
      },
      "outputs": [],
      "source": [
        "X1.head()"
      ]
    },
    {
      "cell_type": "code",
      "execution_count": null,
      "metadata": {
        "colab": {
          "background_save": true
        },
        "id": "aGIfPnmMEfmv"
      },
      "outputs": [],
      "source": [
        "X2.head()"
      ]
    },
    {
      "cell_type": "code",
      "execution_count": null,
      "metadata": {
        "colab": {
          "background_save": true
        },
        "id": "a4IFAXjaElIF"
      },
      "outputs": [],
      "source": [
        "y1 = df1['Unpaid Tagging']\n",
        "y2 = df2['Unpaid Tagging']"
      ]
    },
    {
      "cell_type": "markdown",
      "metadata": {
        "id": "MOgw2gnrEoIz"
      },
      "source": [
        "#Mempersiapkan dataset untuk Validation"
      ]
    },
    {
      "cell_type": "code",
      "execution_count": null,
      "metadata": {
        "colab": {
          "background_save": true
        },
        "id": "il9KTSa1Er_E"
      },
      "outputs": [],
      "source": [
        "#Import data\n",
        "df1_val = pd.read_csv(path_2)\n",
        "df2_val = pd.read_csv(path_2)"
      ]
    },
    {
      "cell_type": "code",
      "execution_count": null,
      "metadata": {
        "colab": {
          "background_save": true
        },
        "id": "4g6k6uhFEybd"
      },
      "outputs": [],
      "source": [
        "df1_val.head()"
      ]
    },
    {
      "cell_type": "code",
      "execution_count": null,
      "metadata": {
        "colab": {
          "background_save": true
        },
        "id": "acnJplNYFIRK"
      },
      "outputs": [],
      "source": [
        "df2_val.head()"
      ]
    },
    {
      "cell_type": "markdown",
      "metadata": {
        "id": "04gJHl11FL4R"
      },
      "source": [
        "##Penambahan Variabel Relevan"
      ]
    },
    {
      "cell_type": "code",
      "execution_count": null,
      "metadata": {
        "colab": {
          "background_save": true
        },
        "id": "wweTvfOXFO2u"
      },
      "outputs": [],
      "source": [
        "#Rata-Rata Balance dan perubahan saldo\n",
        "df1_val['Mean Balance'] = (df1_val['Balance Q2']+df1_val['Balance Q3']+df1_val['Balance Q4']+df1_val['Balance Q5'])/4\n",
        "df2_val['Mean Balance'] = (df2_val['Balance Q4']+df1_val['Balance Q5'])/2"
      ]
    },
    {
      "cell_type": "code",
      "execution_count": null,
      "metadata": {
        "colab": {
          "background_save": true
        },
        "id": "4lJYppLdFVRT"
      },
      "outputs": [],
      "source": [
        "df1_val['Delta Balance'] = df1_val['Balance Q5']-df1_val['Balance Q2']\n",
        "df2_val['Delta Balance'] = df2_val['Balance Q5']-df2_val['Balance Q3']"
      ]
    },
    {
      "cell_type": "markdown",
      "metadata": {
        "id": "C4XdglSNFaH9"
      },
      "source": [
        "##Status Keaktifan"
      ]
    },
    {
      "cell_type": "code",
      "execution_count": null,
      "metadata": {
        "colab": {
          "background_save": true
        },
        "id": "SVbspiWrFcfe"
      },
      "outputs": [],
      "source": [
        "df1_val['Active Months'] = (df1_val['ActiveMember Q2']+df1_val['ActiveMember Q3']+df1_val['ActiveMember Q4']+df1_val['ActiveMember Q5'])*3\n",
        "df2_val['Active Months'] = (df2_val['ActiveMember Q4']+df1_val['ActiveMember Q5'])*3"
      ]
    },
    {
      "cell_type": "code",
      "execution_count": null,
      "metadata": {
        "colab": {
          "background_save": true
        },
        "id": "SKUP7xL9Fpmw"
      },
      "outputs": [],
      "source": [
        "##Penambahan/Pengurangan Product Holding\n",
        "df1_val['Diff PH'] = df1_val['NumOfProducts Q5']-df1_val['NumOfProducts Q2']\n",
        "df2_val['Diff PH'] = df2_val['NumOfProducts Q5']-df1_val['NumOfProducts Q3']"
      ]
    },
    {
      "cell_type": "code",
      "execution_count": null,
      "metadata": {
        "colab": {
          "background_save": true
        },
        "id": "HCUtEBtcFzQf"
      },
      "outputs": [],
      "source": [
        "#Lama Kepemilikan Kartu Kredit\n",
        "def assign_cr2(df):\n",
        "    if df['HasCrCard Q2'] == 1:\n",
        "        return 12\n",
        "    elif df['HasCrCard Q3'] == 1:\n",
        "        return 9\n",
        "    elif df['HasCrCard Q4'] == 1:\n",
        "        return 6\n",
        "    else:\n",
        "        return 3\n",
        "    return np.nan"
      ]
    },
    {
      "cell_type": "code",
      "execution_count": null,
      "metadata": {
        "colab": {
          "background_save": true
        },
        "id": "Xc54Fr4PF5n6"
      },
      "outputs": [],
      "source": [
        "df1_val['Vintage_CR'] = df1_val.apply(assign_cr2, axis = 1)\n",
        "df2_val['Vintage_CR'] = df2_val.apply(assign_cr2, axis = 1)"
      ]
    },
    {
      "cell_type": "markdown",
      "metadata": {
        "id": "1s_jcl7hF-8M"
      },
      "source": [
        "##Penghapusan VAriabel"
      ]
    },
    {
      "cell_type": "code",
      "execution_count": null,
      "metadata": {
        "colab": {
          "background_save": true
        },
        "id": "fwai-7YxGBHy"
      },
      "outputs": [],
      "source": [
        "df1_val = df1_val.drop(columns = ['HasCrCard Q5', 'HasCrCard Q2', 'HasCrCard Q3', 'HasCrCard Q4','Balance Q5', 'Balance Q2', 'Balance Q3', 'Balance Q4','NumOfProducts Q5', 'NumOfProducts Q2', 'NumOfProducts Q3', 'NumOfProducts Q4','ActiveMember Q5', 'ActiveMember Q2', 'ActiveMember Q3', 'ActiveMember Q4'])\n",
        "df2_val = df2_val.drop(columns = ['HasCrCard Q5', 'HasCrCard Q2', 'HasCrCard Q3', 'HasCrCard Q4','Balance Q5', 'Balance Q2', 'Balance Q3', 'Balance Q4','NumOfProducts Q5', 'NumOfProducts Q2', 'NumOfProducts Q3', 'NumOfProducts Q4','ActiveMember Q5', 'ActiveMember Q2', 'ActiveMember Q3', 'ActiveMember Q4'])"
      ]
    },
    {
      "cell_type": "code",
      "execution_count": null,
      "metadata": {
        "colab": {
          "background_save": true
        },
        "id": "8CQZltYCGEqL"
      },
      "outputs": [],
      "source": [
        "df1_val.head(10)"
      ]
    },
    {
      "cell_type": "code",
      "execution_count": null,
      "metadata": {
        "colab": {
          "background_save": true
        },
        "id": "bDSaq6YKGVY3"
      },
      "outputs": [],
      "source": [
        "df2_val.head(10)"
      ]
    },
    {
      "cell_type": "code",
      "execution_count": null,
      "metadata": {
        "colab": {
          "background_save": true
        },
        "id": "U54ehKIDGqWD"
      },
      "outputs": [],
      "source": [
        "##Pemilihan Variabel Prediktor\n",
        "predictor1_val = df1_val[df1_val.columns.difference(['Customer ID', 'Unpaid Tagging'])]\n",
        "predictor2_val = df2_val[df2_val.columns.difference(['Customer ID', 'Unpaid Tagging'])]"
      ]
    },
    {
      "cell_type": "code",
      "execution_count": null,
      "metadata": {
        "colab": {
          "background_save": true
        },
        "id": "jONs9rxfGvWc"
      },
      "outputs": [],
      "source": [
        "predictor1_val['Branch Code'] = predictor1_val['Branch Code'].astype(str)\n",
        "predictor2_val['Branch Code'] = predictor2_val['Branch Code'].astype(str)"
      ]
    },
    {
      "cell_type": "code",
      "execution_count": null,
      "metadata": {
        "colab": {
          "background_save": true
        },
        "id": "wLuXe4OgG0fn"
      },
      "outputs": [],
      "source": [
        "predictor1_val = pd.get_dummies(predictor1_val)\n",
        "predictor2_val = pd.get_dummies(predictor2_val)"
      ]
    },
    {
      "cell_type": "code",
      "execution_count": null,
      "metadata": {
        "colab": {
          "background_save": true
        },
        "id": "h-JedB4tG8lr"
      },
      "outputs": [],
      "source": [
        "predictor1_val.head()"
      ]
    },
    {
      "cell_type": "code",
      "execution_count": null,
      "metadata": {
        "colab": {
          "background_save": true
        },
        "id": "oyc6LNF7HB_V"
      },
      "outputs": [],
      "source": [
        "X1_num_val = predictor1_val[predname_num]\n",
        "X2_num_val = predictor2_val[predname_num]\n",
        "X1_cat_val = predictor1_val[predname_cat]\n",
        "X2_cat_val = predictor2_val[predname_cat]"
      ]
    },
    {
      "cell_type": "code",
      "execution_count": null,
      "metadata": {
        "colab": {
          "background_save": true
        },
        "id": "OULfeziOHGKf"
      },
      "outputs": [],
      "source": [
        "X1_num_val = pd.DataFrame(pt.fit_transform(X1_num_val))\n",
        "X1_num_val.columns = predname_num\n",
        "\n",
        "X2_num_val = pd.DataFrame(pt.fit_transform(X2_num_val))\n",
        "X2_num_val.columns = predname_num"
      ]
    },
    {
      "cell_type": "code",
      "execution_count": null,
      "metadata": {
        "colab": {
          "background_save": true
        },
        "id": "vlzPj4RbKlsk"
      },
      "outputs": [],
      "source": [
        "X1_val = pd.concat([X1_cat, X1_num], axis = 1)\n",
        "X2_val = pd.concat([X2_cat, X2_num], axis = 1)"
      ]
    },
    {
      "cell_type": "code",
      "execution_count": null,
      "metadata": {
        "colab": {
          "background_save": true
        },
        "id": "248-wlXcKntz"
      },
      "outputs": [],
      "source": [
        "X1_val.head()"
      ]
    },
    {
      "cell_type": "code",
      "execution_count": null,
      "metadata": {
        "colab": {
          "background_save": true
        },
        "id": "QrhFMeYrKri6"
      },
      "outputs": [],
      "source": [
        "y1_val = df1_val['Unpaid Tagging']\n",
        "y2_val = df2_val['Unpaid Tagging']"
      ]
    },
    {
      "cell_type": "markdown",
      "metadata": {
        "id": "p63X4UEyKzZ5"
      },
      "source": [
        "##Pengecekan Korelasi"
      ]
    },
    {
      "cell_type": "code",
      "execution_count": null,
      "metadata": {
        "colab": {
          "background_save": true
        },
        "id": "2bXyv95yK1po"
      },
      "outputs": [],
      "source": [
        "#Variabel yang berkorelasi lebih dari 0.7 akan di drop.\n",
        "corrtest1 = X1.corr().abs()\n",
        "corrtest2 = X2.corr().abs()"
      ]
    },
    {
      "cell_type": "code",
      "execution_count": null,
      "metadata": {
        "colab": {
          "background_save": true
        },
        "id": "etc7j96kK9xE"
      },
      "outputs": [],
      "source": [
        "corrtest1"
      ]
    },
    {
      "cell_type": "code",
      "execution_count": null,
      "metadata": {
        "colab": {
          "background_save": true
        },
        "id": "W_c4-SJTLCR3"
      },
      "outputs": [],
      "source": [
        "corrtest2"
      ]
    },
    {
      "cell_type": "code",
      "execution_count": null,
      "metadata": {
        "colab": {
          "background_save": true
        },
        "id": "MPUpEf2HLKGo"
      },
      "outputs": [],
      "source": [
        "# Membuang Nilai Redundan Pada Matriks\n",
        "upper = corrtest1.where(np.triu(np.ones(corrtest1.shape), k=1).astype(np.bool_))\n",
        "\n",
        "# Mencari Nilai Yang Berkorelasi di atas 0.7\n",
        "to_drop = [column for column in upper.columns if any(upper[column] > 0.7)]\n",
        "\n",
        "# Menghapus Kolom Yang Berkorelasi di atas 0.7\n",
        "X1 = X1.drop(to_drop, axis=1)\n",
        "X1_val = X1_val.drop(to_drop, axis=1)"
      ]
    },
    {
      "cell_type": "code",
      "execution_count": null,
      "metadata": {
        "colab": {
          "background_save": true
        },
        "id": "FPiL85ajLPKK"
      },
      "outputs": [],
      "source": [
        "X1.head()"
      ]
    },
    {
      "cell_type": "code",
      "execution_count": null,
      "metadata": {
        "id": "owhr538tLS5v"
      },
      "outputs": [],
      "source": [
        "# Membuang Nilai Redundan Pada Matriks\n",
        "upper2 = corrtest2.where(np.triu(np.ones(corrtest2.shape), k=1).astype(np.bool_))\n",
        "\n",
        "# Mencari Nilai Yang Berkorelasi di atas 0.7\n",
        "to_drop2 = [column for column in upper2.columns if any(upper2[column] > 0.7)]\n",
        "\n",
        "# Menghapus Kolom Yang Berkorelasi di atas 0.7\n",
        "X2 = X2.drop(to_drop2, axis=1)\n",
        "X2_val = X2_val.drop(to_drop2, axis=1)"
      ]
    },
    {
      "cell_type": "code",
      "execution_count": null,
      "metadata": {
        "id": "tC7fGbQLLYbt"
      },
      "outputs": [],
      "source": [
        "X2.head()"
      ]
    },
    {
      "cell_type": "markdown",
      "metadata": {
        "id": "Pw0pxy4vLcrk"
      },
      "source": [
        "##Splitting Train-Test DAta"
      ]
    },
    {
      "cell_type": "code",
      "execution_count": null,
      "metadata": {
        "id": "6gqw2h2ULfsk"
      },
      "outputs": [],
      "source": [
        "y1.value_counts()"
      ]
    },
    {
      "cell_type": "code",
      "execution_count": null,
      "metadata": {
        "id": "o9ddn4vzLiw6"
      },
      "outputs": [],
      "source": [
        "y2.value_counts()"
      ]
    },
    {
      "cell_type": "code",
      "execution_count": null,
      "metadata": {
        "id": "Rw8_kD4FLkkI"
      },
      "outputs": [],
      "source": [
        "from sklearn.model_selection import train_test_split\n",
        "\n",
        "X1_train, X1_test, y1_train, y1_test = train_test_split(X1, y1, test_size=0.3, stratify=y1, random_state=30)\n",
        "X2_train, X2_test, y2_train, y2_test = train_test_split(X2, y2, test_size=0.3, stratify=y2, random_state=30)"
      ]
    },
    {
      "cell_type": "markdown",
      "metadata": {
        "id": "Uz0Sd-vOLvUo"
      },
      "source": [
        "#**Modeling**"
      ]
    },
    {
      "cell_type": "markdown",
      "metadata": {
        "id": "TBSwoI4tMLUg"
      },
      "source": [
        "##Logistic Regession\n",
        "\n"
      ]
    },
    {
      "cell_type": "code",
      "execution_count": null,
      "metadata": {
        "id": "nhAuljAaMSRf"
      },
      "outputs": [],
      "source": [
        "#Melakukan Definisi Hyperparameter\n",
        "penalty = ['l2']\n",
        "tol = [0.001, 0.0001, 0.00001]\n",
        "C = [100.0, 10.0, 1.00, 0.1, 0.01, 0.001]\n",
        "fit_intercept = [True, False]\n",
        "intercept_scaling = [1.0, 0.75, 0.5, 0.25]\n",
        "class_weight = ['balanced', None]\n",
        "solver = ['newton-cg', 'sag', 'lbfgs', 'saga']\n",
        "max_iter=[14000]\n",
        "param_distributions = dict(penalty=penalty, tol=tol, C=C, fit_intercept=fit_intercept, intercept_scaling=intercept_scaling,\n",
        "                  class_weight=class_weight, solver=solver, max_iter=max_iter)"
      ]
    },
    {
      "cell_type": "code",
      "execution_count": null,
      "metadata": {
        "id": "R1d9VBEZMaQL"
      },
      "outputs": [],
      "source": [
        "#Melakukan Pencarian Hyperparameter Terbaik\n",
        "from sklearn.model_selection import GridSearchCV"
      ]
    },
    {
      "cell_type": "code",
      "execution_count": null,
      "metadata": {
        "id": "Djs4WKBAMhg4"
      },
      "outputs": [],
      "source": [
        "import time\n",
        "\n",
        "#cv = cross validation\n",
        "logreg = LogisticRegression()\n",
        "grid = GridSearchCV(estimator=logreg, param_grid = param_distributions , scoring = 'recall', cv = 5, n_jobs=-1)\n",
        "\n",
        "start_time = time.time()\n",
        "grid_result = grid.fit(X1_train, y1_train)\n",
        "# Summarize results\n",
        "print(\"Best: %f using %s\" % (grid_result.best_score_, grid_result.best_params_))\n",
        "print(\"Execution time: \" + str((time.time() - start_time)) + ' s')"
      ]
    },
    {
      "cell_type": "code",
      "execution_count": null,
      "metadata": {
        "id": "RgvdtypUVBR2"
      },
      "outputs": [],
      "source": [
        "grid2 = GridSearchCV(estimator=logreg, param_grid = param_distributions , scoring = 'recall', cv = 5, n_jobs=-1)\n",
        "start_time = time.time()\n",
        "grid_result2 = grid2.fit(X2_train, y2_train)\n",
        "# Summarize results\n",
        "print(\"Best: %f using %s\" % (grid_result2.best_score_, grid_result2.best_params_))\n",
        "print(\"Execution time: \" + str((time.time() - start_time)) + ' s')"
      ]
    },
    {
      "cell_type": "markdown",
      "metadata": {
        "id": "reW8ca8oYq36"
      },
      "source": [
        "##Gradient Boosting"
      ]
    },
    {
      "cell_type": "code",
      "execution_count": null,
      "metadata": {
        "id": "jmrBlFPdZHey"
      },
      "outputs": [],
      "source": [
        "from xgboost import XGBClassifier\n",
        "from sklearn.metrics import confusion_matrix, classification_report, make_scorer,accuracy_score,precision_score,recall_score,f1_score"
      ]
    },
    {
      "cell_type": "code",
      "execution_count": null,
      "metadata": {
        "id": "kKrw2pBSZNYr"
      },
      "outputs": [],
      "source": [
        "gbparameter = {'max_depth':[5,10,15],'gamma':[0.0,0.1,0.2,0.3], 'n_estimators':[25,50,75,100],'learning_rate':[0.05,0.1,0.2,0.3], 'scale_pos_weight':[1,3]}\n",
        "score = {'accuracy':make_scorer(accuracy_score), 'precision':make_scorer(precision_score),'recall':make_scorer(recall_score), 'f1':make_scorer(f1_score)}"
      ]
    },
    {
      "cell_type": "code",
      "execution_count": null,
      "metadata": {
        "id": "0eqwRr43ZSQ2"
      },
      "outputs": [],
      "source": [
        "GB_Grid = GridSearchCV(XGBClassifier(), gbparameter, cv=5,refit='recall', verbose=0, n_jobs=-1, scoring=score)"
      ]
    },
    {
      "cell_type": "code",
      "execution_count": null,
      "metadata": {
        "id": "9reHNMglZU4l"
      },
      "outputs": [],
      "source": [
        "start_time = time.time()\n",
        "GB_result = GB_Grid.fit(X1_train, y1_train)\n",
        "# Summarize results\n",
        "print(\"Best: %f using %s\" % (GB_result.best_score_, GB_result.best_params_))\n",
        "print(\"Execution time: \" + str((time.time() - start_time)) + ' s')"
      ]
    },
    {
      "cell_type": "code",
      "execution_count": null,
      "metadata": {
        "id": "g0xM2pxka75y"
      },
      "outputs": [],
      "source": [
        "GB_Grid2 = GridSearchCV(XGBClassifier(), gbparameter, cv=5,refit='recall', verbose=0, n_jobs=-1, scoring=score)"
      ]
    },
    {
      "cell_type": "code",
      "execution_count": null,
      "metadata": {
        "id": "PWAmku0Za9aa"
      },
      "outputs": [],
      "source": [
        "start_time = time.time()\n",
        "GB2_result = GB_Grid2.fit(X2_train, y2_train)\n",
        "# Summarize results\n",
        "print(\"Best: %f using %s\" % (GB2_result.best_score_, GB2_result.best_params_))\n",
        "print(\"Execution time: \" + str((time.time() - start_time)) + ' s')"
      ]
    },
    {
      "cell_type": "markdown",
      "metadata": {
        "id": "UaZGLdM0jFCk"
      },
      "source": [
        "##Random Forest"
      ]
    },
    {
      "cell_type": "code",
      "execution_count": null,
      "metadata": {
        "id": "W3NtfLFujKSI"
      },
      "outputs": [],
      "source": [
        "from sklearn.ensemble import RandomForestClassifier"
      ]
    },
    {
      "cell_type": "code",
      "execution_count": null,
      "metadata": {
        "id": "IyA0rnTHjMH_"
      },
      "outputs": [],
      "source": [
        "parameter = {'max_depth':[5,10,15,20],'max_features':['auto','sqrt','log2'], 'n_estimators':[25,50,75,100,125],'min_samples_split':[2,3,5,7]}\n",
        "score = {'accuracy':make_scorer(accuracy_score), 'precision':make_scorer(precision_score),'recall':make_scorer(recall_score), 'f1':make_scorer(f1_score)}"
      ]
    },
    {
      "cell_type": "code",
      "execution_count": null,
      "metadata": {
        "id": "pM2NacyojOf8"
      },
      "outputs": [],
      "source": [
        "RF_Grid = GridSearchCV(RandomForestClassifier(), parameter, cv=5,refit='recall', verbose=0, n_jobs=-1, scoring=score)"
      ]
    },
    {
      "cell_type": "code",
      "execution_count": null,
      "metadata": {
        "id": "Av09rCd9jRA4"
      },
      "outputs": [],
      "source": [
        "start_time = time.time()\n",
        "RF_result = RF_Grid.fit(X1_train, y1_train)\n",
        "# Summarize results\n",
        "print(\"Best: %f using %s\" % (RF_result.best_score_, RF_result.best_params_))\n",
        "print(\"Execution time: \" + str((time.time() - start_time)) + ' s')"
      ]
    },
    {
      "cell_type": "code",
      "execution_count": null,
      "metadata": {
        "id": "eyP9yf92kXVs"
      },
      "outputs": [],
      "source": [
        "RF_Grid2 = GridSearchCV(RandomForestClassifier(), parameter, cv=5,refit='recall', verbose=0, n_jobs=-1, scoring=score)"
      ]
    },
    {
      "cell_type": "code",
      "execution_count": null,
      "metadata": {
        "id": "y1n74Gs5kZKt"
      },
      "outputs": [],
      "source": [
        "start_time = time.time()\n",
        "RF_result2 = RF_Grid2.fit(X2_train, y2_train)\n",
        "# Summarize results\n",
        "print(\"Best: %f using %s\" % (RF_result2.best_score_, RF_result2.best_params_))\n",
        "print(\"Execution time: \" + str((time.time() - start_time)) + ' s')"
      ]
    },
    {
      "cell_type": "markdown",
      "metadata": {
        "id": "0diB31XHoGBP"
      },
      "source": [
        "#Evaluation"
      ]
    },
    {
      "cell_type": "markdown",
      "metadata": {
        "id": "6A3yJ1U2oIbJ"
      },
      "source": [
        "## Logistic Regression"
      ]
    },
    {
      "cell_type": "code",
      "execution_count": null,
      "metadata": {
        "id": "dRiVuc-DoPnF"
      },
      "outputs": [],
      "source": [
        "y1_pred =grid.predict(X1_test)"
      ]
    },
    {
      "cell_type": "code",
      "execution_count": null,
      "metadata": {
        "id": "3AensiqLoV7c"
      },
      "outputs": [],
      "source": [
        "from sklearn import metrics\n",
        "print(\"Accuracy:\",metrics.accuracy_score(y1_test, y1_pred))\n",
        "print(\"Recall:\",metrics.recall_score(y1_test, y1_pred))\n",
        "metrics.completeness_score"
      ]
    },
    {
      "cell_type": "code",
      "execution_count": null,
      "metadata": {
        "id": "PwUzNwnCoXKZ"
      },
      "outputs": [],
      "source": [
        "y1_pred_val =grid.predict(X1_val)"
      ]
    },
    {
      "cell_type": "code",
      "execution_count": null,
      "metadata": {
        "id": "8for1MIFobdR"
      },
      "outputs": [],
      "source": [
        "from sklearn import metrics\n",
        "print(\"Accuracy:\",metrics.accuracy_score(y1_val, y1_pred_val))\n",
        "print(\"Recall:\",metrics.recall_score(y1_val, y1_pred_val))\n",
        "metrics.completeness_score"
      ]
    },
    {
      "cell_type": "code",
      "execution_count": null,
      "metadata": {
        "id": "DrfkkzbyocP0"
      },
      "outputs": [],
      "source": [
        "from jcopml.feature_importance import mean_score_decrease\n",
        "df_imp1 = mean_score_decrease(X1_train, y1_train, grid, plot= True, topk=20)"
      ]
    },
    {
      "cell_type": "code",
      "execution_count": null,
      "metadata": {
        "id": "AnsY_lT5up_d"
      },
      "outputs": [],
      "source": [
        "y2_pred =grid2.predict(X2_test)"
      ]
    },
    {
      "cell_type": "code",
      "execution_count": null,
      "metadata": {
        "id": "U6TMjRkVutpI"
      },
      "outputs": [],
      "source": [
        "from sklearn import metrics\n",
        "print(\"Accuracy:\",metrics.accuracy_score(y2_test, y2_pred))\n",
        "print(\"Recall:\",metrics.recall_score(y2_test, y2_pred))\n",
        "metrics.completeness_score"
      ]
    },
    {
      "cell_type": "code",
      "execution_count": null,
      "metadata": {
        "id": "1N2CBau5uvgb"
      },
      "outputs": [],
      "source": [
        "y2_pred_val =grid2.predict(X2_val)"
      ]
    },
    {
      "cell_type": "code",
      "execution_count": null,
      "metadata": {
        "id": "UJJe8NHMu7AE"
      },
      "outputs": [],
      "source": [
        "from sklearn import metrics\n",
        "print(\"Accuracy:\",metrics.accuracy_score(y2_val, y2_pred_val))\n",
        "print(\"Recall:\",metrics.recall_score(y2_val, y2_pred_val))\n",
        "metrics.completeness_score"
      ]
    },
    {
      "cell_type": "code",
      "execution_count": null,
      "metadata": {
        "id": "Wo49Md9ru-x6"
      },
      "outputs": [],
      "source": [
        "df_imp2 = mean_score_decrease(X2_train, y2_train, grid2, plot= True, topk=20)"
      ]
    },
    {
      "cell_type": "markdown",
      "metadata": {
        "id": "O1QVbxyLvDNw"
      },
      "source": [
        "#Gradien Boosting"
      ]
    },
    {
      "cell_type": "code",
      "execution_count": null,
      "metadata": {
        "id": "NK81HhjBvJ5X"
      },
      "outputs": [],
      "source": [
        "y11_pred =GB_Grid.predict(X1_test)"
      ]
    },
    {
      "cell_type": "code",
      "execution_count": null,
      "metadata": {
        "id": "k6omFI_mvNIK"
      },
      "outputs": [],
      "source": [
        "from sklearn import metrics\n",
        "print(\"Accuracy:\",metrics.accuracy_score(y1_test, y11_pred))\n",
        "print(\"Recall:\",metrics.recall_score(y1_test, y11_pred))\n",
        "metrics.completeness_score"
      ]
    },
    {
      "cell_type": "code",
      "execution_count": null,
      "metadata": {
        "id": "fqx1MaGnyHM3"
      },
      "outputs": [],
      "source": [
        "df_imp3 = mean_score_decrease(X1_train, y1_train, GB_Grid, plot= True, topk=20)"
      ]
    },
    {
      "cell_type": "code",
      "execution_count": null,
      "metadata": {
        "id": "KL6sNLapySxG"
      },
      "outputs": [],
      "source": [
        "y22_pred =GB_Grid2.predict(X2_test)"
      ]
    },
    {
      "cell_type": "code",
      "execution_count": null,
      "metadata": {
        "id": "DLo3tJXRyzER"
      },
      "outputs": [],
      "source": [
        "from sklearn import metrics\n",
        "print(\"Accuracy:\",metrics.accuracy_score(y2_test, y22_pred))\n",
        "print(\"Recall:\",metrics.recall_score(y2_test, y22_pred))\n",
        "metrics.completeness_score"
      ]
    }
  ],
  "metadata": {
    "colab": {
      "provenance": []
    },
    "kernelspec": {
      "display_name": "Python 3",
      "name": "python3"
    },
    "language_info": {
      "name": "python"
    }
  },
  "nbformat": 4,
  "nbformat_minor": 0
}